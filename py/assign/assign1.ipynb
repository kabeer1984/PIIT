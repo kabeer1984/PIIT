{
 "cells": [
  {
   "cell_type": "markdown",
   "id": "bf8b0f63-e031-41f3-b413-fc67266886ff",
   "metadata": {},
   "source": [
    "##Myanalogy of Analysis & Analytics\n",
    "I am from retail management back ground so always had to keep study data . Data like sales 300k, customer rating 4.6 , response time 9.6 sec, stuff utilization percentage 80% etc.\n",
    "Analysis is the study of those data already occurred and present.\n",
    "My job was to analysis those data , then how can we improve sales ,get great customer reviews ,how to faster response to the customer orders are the data are the analytics."
   ]
  },
  {
   "cell_type": "markdown",
   "id": "62183057-5c8c-405b-aab1-399d98904163",
   "metadata": {},
   "source": [
    "## Elustration\n",
    "From the above data I would question what can be changed to get meet my organizational goal.\n",
    "The strateguies that I would take is basivally the Analytrics part.\n",
    "Like I Would shecduled more associates in the poick time to do go down on response time per customer. The target is fast customer response.\n",
    "so Stuffing utilization percentage has to go up inorder to meet the goal on less time on custpomer response.\n"
   ]
  }
 ],
 "metadata": {
  "kernelspec": {
   "display_name": "Python [conda env:base] *",
   "language": "python",
   "name": "conda-base-py"
  },
  "language_info": {
   "codemirror_mode": {
    "name": "ipython",
    "version": 3
   },
   "file_extension": ".py",
   "mimetype": "text/x-python",
   "name": "python",
   "nbconvert_exporter": "python",
   "pygments_lexer": "ipython3",
   "version": "3.13.5"
  }
 },
 "nbformat": 4,
 "nbformat_minor": 5
}
