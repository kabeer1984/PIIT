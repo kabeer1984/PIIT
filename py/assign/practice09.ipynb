{
 "cells": [
  {
   "cell_type": "code",
   "execution_count": 1,
   "id": "27ca3499-ffd3-4015-b75c-f8c01160ddd6",
   "metadata": {},
   "outputs": [],
   "source": [
    "import pandas as pd"
   ]
  },
  {
   "cell_type": "code",
   "execution_count": 2,
   "id": "40d99bbd-1c1c-45d7-a811-8afa65b507d9",
   "metadata": {},
   "outputs": [],
   "source": [
    "import numpy as np"
   ]
  },
  {
   "cell_type": "code",
   "execution_count": 3,
   "id": "0476a0aa-76be-4cc0-a41e-58de4b425248",
   "metadata": {},
   "outputs": [],
   "source": [
    "from pydataset import data"
   ]
  },
  {
   "cell_type": "code",
   "execution_count": 4,
   "id": "1514466f-114d-4aef-a98e-d3d90bc24963",
   "metadata": {},
   "outputs": [
    {
     "data": {
      "text/html": [
       "<div>\n",
       "<style scoped>\n",
       "    .dataframe tbody tr th:only-of-type {\n",
       "        vertical-align: middle;\n",
       "    }\n",
       "\n",
       "    .dataframe tbody tr th {\n",
       "        vertical-align: top;\n",
       "    }\n",
       "\n",
       "    .dataframe thead th {\n",
       "        text-align: right;\n",
       "    }\n",
       "</style>\n",
       "<table border=\"1\" class=\"dataframe\">\n",
       "  <thead>\n",
       "    <tr style=\"text-align: right;\">\n",
       "      <th></th>\n",
       "      <th>dataset_id</th>\n",
       "      <th>title</th>\n",
       "    </tr>\n",
       "  </thead>\n",
       "  <tbody>\n",
       "    <tr>\n",
       "      <th>0</th>\n",
       "      <td>AirPassengers</td>\n",
       "      <td>Monthly Airline Passenger Numbers 1949-1960</td>\n",
       "    </tr>\n",
       "    <tr>\n",
       "      <th>1</th>\n",
       "      <td>BJsales</td>\n",
       "      <td>Sales Data with Leading Indicator</td>\n",
       "    </tr>\n",
       "    <tr>\n",
       "      <th>2</th>\n",
       "      <td>BOD</td>\n",
       "      <td>Biochemical Oxygen Demand</td>\n",
       "    </tr>\n",
       "    <tr>\n",
       "      <th>3</th>\n",
       "      <td>Formaldehyde</td>\n",
       "      <td>Determination of Formaldehyde</td>\n",
       "    </tr>\n",
       "    <tr>\n",
       "      <th>4</th>\n",
       "      <td>HairEyeColor</td>\n",
       "      <td>Hair and Eye Color of Statistics Students</td>\n",
       "    </tr>\n",
       "    <tr>\n",
       "      <th>...</th>\n",
       "      <td>...</td>\n",
       "      <td>...</td>\n",
       "    </tr>\n",
       "    <tr>\n",
       "      <th>752</th>\n",
       "      <td>VerbAgg</td>\n",
       "      <td>Verbal Aggression item responses</td>\n",
       "    </tr>\n",
       "    <tr>\n",
       "      <th>753</th>\n",
       "      <td>cake</td>\n",
       "      <td>Breakage Angle of Chocolate Cakes</td>\n",
       "    </tr>\n",
       "    <tr>\n",
       "      <th>754</th>\n",
       "      <td>cbpp</td>\n",
       "      <td>Contagious bovine pleuropneumonia</td>\n",
       "    </tr>\n",
       "    <tr>\n",
       "      <th>755</th>\n",
       "      <td>grouseticks</td>\n",
       "      <td>Data on red grouse ticks from Elston et al. 2001</td>\n",
       "    </tr>\n",
       "    <tr>\n",
       "      <th>756</th>\n",
       "      <td>sleepstudy</td>\n",
       "      <td>Reaction times in a sleep deprivation study</td>\n",
       "    </tr>\n",
       "  </tbody>\n",
       "</table>\n",
       "<p>757 rows × 2 columns</p>\n",
       "</div>"
      ],
      "text/plain": [
       "        dataset_id                                             title\n",
       "0    AirPassengers       Monthly Airline Passenger Numbers 1949-1960\n",
       "1          BJsales                 Sales Data with Leading Indicator\n",
       "2              BOD                         Biochemical Oxygen Demand\n",
       "3     Formaldehyde                     Determination of Formaldehyde\n",
       "4     HairEyeColor         Hair and Eye Color of Statistics Students\n",
       "..             ...                                               ...\n",
       "752        VerbAgg                  Verbal Aggression item responses\n",
       "753           cake                 Breakage Angle of Chocolate Cakes\n",
       "754           cbpp                 Contagious bovine pleuropneumonia\n",
       "755    grouseticks  Data on red grouse ticks from Elston et al. 2001\n",
       "756     sleepstudy       Reaction times in a sleep deprivation study\n",
       "\n",
       "[757 rows x 2 columns]"
      ]
     },
     "execution_count": 4,
     "metadata": {},
     "output_type": "execute_result"
    }
   ],
   "source": [
    "data()"
   ]
  },
  {
   "cell_type": "code",
   "execution_count": 6,
   "id": "eba31f37-1fbf-45d8-a22b-e7c77a91d00d",
   "metadata": {},
   "outputs": [],
   "source": [
    "BJsales=data('BJsales')"
   ]
  },
  {
   "cell_type": "code",
   "execution_count": 7,
   "id": "a9b90b09-4fdc-4f24-832f-e63ee0dfc6bb",
   "metadata": {},
   "outputs": [
    {
     "data": {
      "text/html": [
       "<div>\n",
       "<style scoped>\n",
       "    .dataframe tbody tr th:only-of-type {\n",
       "        vertical-align: middle;\n",
       "    }\n",
       "\n",
       "    .dataframe tbody tr th {\n",
       "        vertical-align: top;\n",
       "    }\n",
       "\n",
       "    .dataframe thead th {\n",
       "        text-align: right;\n",
       "    }\n",
       "</style>\n",
       "<table border=\"1\" class=\"dataframe\">\n",
       "  <thead>\n",
       "    <tr style=\"text-align: right;\">\n",
       "      <th></th>\n",
       "      <th>time</th>\n",
       "      <th>BJsales</th>\n",
       "    </tr>\n",
       "  </thead>\n",
       "  <tbody>\n",
       "    <tr>\n",
       "      <th>1</th>\n",
       "      <td>1</td>\n",
       "      <td>200.1</td>\n",
       "    </tr>\n",
       "    <tr>\n",
       "      <th>2</th>\n",
       "      <td>2</td>\n",
       "      <td>199.5</td>\n",
       "    </tr>\n",
       "    <tr>\n",
       "      <th>3</th>\n",
       "      <td>3</td>\n",
       "      <td>199.4</td>\n",
       "    </tr>\n",
       "    <tr>\n",
       "      <th>4</th>\n",
       "      <td>4</td>\n",
       "      <td>198.9</td>\n",
       "    </tr>\n",
       "    <tr>\n",
       "      <th>5</th>\n",
       "      <td>5</td>\n",
       "      <td>199.0</td>\n",
       "    </tr>\n",
       "    <tr>\n",
       "      <th>6</th>\n",
       "      <td>6</td>\n",
       "      <td>200.2</td>\n",
       "    </tr>\n",
       "    <tr>\n",
       "      <th>7</th>\n",
       "      <td>7</td>\n",
       "      <td>198.6</td>\n",
       "    </tr>\n",
       "    <tr>\n",
       "      <th>8</th>\n",
       "      <td>8</td>\n",
       "      <td>200.0</td>\n",
       "    </tr>\n",
       "    <tr>\n",
       "      <th>9</th>\n",
       "      <td>9</td>\n",
       "      <td>200.3</td>\n",
       "    </tr>\n",
       "    <tr>\n",
       "      <th>10</th>\n",
       "      <td>10</td>\n",
       "      <td>201.2</td>\n",
       "    </tr>\n",
       "  </tbody>\n",
       "</table>\n",
       "</div>"
      ],
      "text/plain": [
       "    time  BJsales\n",
       "1      1    200.1\n",
       "2      2    199.5\n",
       "3      3    199.4\n",
       "4      4    198.9\n",
       "5      5    199.0\n",
       "6      6    200.2\n",
       "7      7    198.6\n",
       "8      8    200.0\n",
       "9      9    200.3\n",
       "10    10    201.2"
      ]
     },
     "execution_count": 7,
     "metadata": {},
     "output_type": "execute_result"
    }
   ],
   "source": [
    "BJsales.head(10)"
   ]
  },
  {
   "cell_type": "code",
   "execution_count": 8,
   "id": "2c239e0a-7cb6-4241-a99a-5484f902f345",
   "metadata": {},
   "outputs": [
    {
     "data": {
      "text/plain": [
       "time         int64\n",
       "BJsales    float64\n",
       "dtype: object"
      ]
     },
     "execution_count": 8,
     "metadata": {},
     "output_type": "execute_result"
    }
   ],
   "source": [
    "BJsales.dtypes"
   ]
  },
  {
   "cell_type": "code",
   "execution_count": 9,
   "id": "1e69e813-c642-4cf8-a91f-1eaf0c1cb72e",
   "metadata": {},
   "outputs": [
    {
     "data": {
      "text/plain": [
       "(150, 2)"
      ]
     },
     "execution_count": 9,
     "metadata": {},
     "output_type": "execute_result"
    }
   ],
   "source": [
    "BJsales.shape"
   ]
  },
  {
   "cell_type": "code",
   "execution_count": 11,
   "id": "943fc274-aaef-4271-a7d3-8ca5295b9513",
   "metadata": {},
   "outputs": [
    {
     "data": {
      "text/plain": [
       "<bound method NDFrame.describe of      time  BJsales\n",
       "1       1    200.1\n",
       "2       2    199.5\n",
       "3       3    199.4\n",
       "4       4    198.9\n",
       "5       5    199.0\n",
       "6       6    200.2\n",
       "7       7    198.6\n",
       "8       8    200.0\n",
       "9       9    200.3\n",
       "10     10    201.2\n",
       "11     11    201.6\n",
       "12     12    201.5\n",
       "13     13    201.5\n",
       "14     14    203.5\n",
       "15     15    204.9\n",
       "16     16    207.1\n",
       "17     17    210.5\n",
       "18     18    210.5\n",
       "19     19    209.8\n",
       "20     20    208.8\n",
       "21     21    209.5\n",
       "22     22    213.2\n",
       "23     23    213.7\n",
       "24     24    215.1\n",
       "25     25    218.7\n",
       "26     26    219.8\n",
       "27     27    220.5\n",
       "28     28    223.8\n",
       "29     29    222.8\n",
       "30     30    223.8\n",
       "31     31    221.7\n",
       "32     32    222.3\n",
       "33     33    220.8\n",
       "34     34    219.4\n",
       "35     35    220.1\n",
       "36     36    220.6\n",
       "37     37    218.9\n",
       "38     38    217.8\n",
       "39     39    217.7\n",
       "40     40    215.0\n",
       "41     41    215.3\n",
       "42     42    215.9\n",
       "43     43    216.7\n",
       "44     44    216.7\n",
       "45     45    217.7\n",
       "46     46    218.7\n",
       "47     47    222.9\n",
       "48     48    224.9\n",
       "49     49    222.2\n",
       "50     50    220.7\n",
       "51     51    220.0\n",
       "52     52    218.7\n",
       "53     53    217.0\n",
       "54     54    215.9\n",
       "55     55    215.8\n",
       "56     56    214.1\n",
       "57     57    212.3\n",
       "58     58    213.9\n",
       "59     59    214.6\n",
       "60     60    213.6\n",
       "61     61    212.1\n",
       "62     62    211.4\n",
       "63     63    213.1\n",
       "64     64    212.9\n",
       "65     65    213.3\n",
       "66     66    211.5\n",
       "67     67    212.3\n",
       "68     68    213.0\n",
       "69     69    211.0\n",
       "70     70    210.7\n",
       "71     71    210.1\n",
       "72     72    211.4\n",
       "73     73    210.0\n",
       "74     74    209.7\n",
       "75     75    208.8\n",
       "76     76    208.8\n",
       "77     77    208.8\n",
       "78     78    210.6\n",
       "79     79    211.9\n",
       "80     80    212.8\n",
       "81     81    212.5\n",
       "82     82    214.8\n",
       "83     83    215.3\n",
       "84     84    217.5\n",
       "85     85    218.8\n",
       "86     86    220.7\n",
       "87     87    222.2\n",
       "88     88    226.7\n",
       "89     89    228.4\n",
       "90     90    233.2\n",
       "91     91    235.7\n",
       "92     92    237.1\n",
       "93     93    240.6\n",
       "94     94    243.8\n",
       "95     95    245.3\n",
       "96     96    246.0\n",
       "97     97    246.3\n",
       "98     98    247.7\n",
       "99     99    247.6\n",
       "100   100    247.8\n",
       "101   101    249.4\n",
       "102   102    249.0\n",
       "103   103    249.9\n",
       "104   104    250.5\n",
       "105   105    251.5\n",
       "106   106    249.0\n",
       "107   107    247.6\n",
       "108   108    248.8\n",
       "109   109    250.4\n",
       "110   110    250.7\n",
       "111   111    253.0\n",
       "112   112    253.7\n",
       "113   113    255.0\n",
       "114   114    256.2\n",
       "115   115    256.0\n",
       "116   116    257.4\n",
       "117   117    260.4\n",
       "118   118    260.0\n",
       "119   119    261.3\n",
       "120   120    260.4\n",
       "121   121    261.6\n",
       "122   122    260.8\n",
       "123   123    259.8\n",
       "124   124    259.0\n",
       "125   125    258.9\n",
       "126   126    257.4\n",
       "127   127    257.7\n",
       "128   128    257.9\n",
       "129   129    257.4\n",
       "130   130    257.3\n",
       "131   131    257.6\n",
       "132   132    258.9\n",
       "133   133    257.8\n",
       "134   134    257.7\n",
       "135   135    257.2\n",
       "136   136    257.5\n",
       "137   137    256.8\n",
       "138   138    257.5\n",
       "139   139    257.0\n",
       "140   140    257.6\n",
       "141   141    257.3\n",
       "142   142    257.5\n",
       "143   143    259.6\n",
       "144   144    261.1\n",
       "145   145    262.9\n",
       "146   146    263.3\n",
       "147   147    262.8\n",
       "148   148    261.8\n",
       "149   149    262.2\n",
       "150   150    262.7>"
      ]
     },
     "execution_count": 11,
     "metadata": {},
     "output_type": "execute_result"
    }
   ],
   "source": [
    "BJsales.describe"
   ]
  },
  {
   "cell_type": "code",
   "execution_count": 12,
   "id": "fa170e6a-6efb-4657-9110-3cfc933f3976",
   "metadata": {},
   "outputs": [
    {
     "data": {
      "text/html": [
       "<div>\n",
       "<style scoped>\n",
       "    .dataframe tbody tr th:only-of-type {\n",
       "        vertical-align: middle;\n",
       "    }\n",
       "\n",
       "    .dataframe tbody tr th {\n",
       "        vertical-align: top;\n",
       "    }\n",
       "\n",
       "    .dataframe thead th {\n",
       "        text-align: right;\n",
       "    }\n",
       "</style>\n",
       "<table border=\"1\" class=\"dataframe\">\n",
       "  <thead>\n",
       "    <tr style=\"text-align: right;\">\n",
       "      <th></th>\n",
       "      <th>time</th>\n",
       "      <th>BJsales</th>\n",
       "    </tr>\n",
       "  </thead>\n",
       "  <tbody>\n",
       "    <tr>\n",
       "      <th>141</th>\n",
       "      <td>141</td>\n",
       "      <td>257.3</td>\n",
       "    </tr>\n",
       "    <tr>\n",
       "      <th>142</th>\n",
       "      <td>142</td>\n",
       "      <td>257.5</td>\n",
       "    </tr>\n",
       "    <tr>\n",
       "      <th>143</th>\n",
       "      <td>143</td>\n",
       "      <td>259.6</td>\n",
       "    </tr>\n",
       "    <tr>\n",
       "      <th>144</th>\n",
       "      <td>144</td>\n",
       "      <td>261.1</td>\n",
       "    </tr>\n",
       "    <tr>\n",
       "      <th>145</th>\n",
       "      <td>145</td>\n",
       "      <td>262.9</td>\n",
       "    </tr>\n",
       "    <tr>\n",
       "      <th>146</th>\n",
       "      <td>146</td>\n",
       "      <td>263.3</td>\n",
       "    </tr>\n",
       "    <tr>\n",
       "      <th>147</th>\n",
       "      <td>147</td>\n",
       "      <td>262.8</td>\n",
       "    </tr>\n",
       "    <tr>\n",
       "      <th>148</th>\n",
       "      <td>148</td>\n",
       "      <td>261.8</td>\n",
       "    </tr>\n",
       "    <tr>\n",
       "      <th>149</th>\n",
       "      <td>149</td>\n",
       "      <td>262.2</td>\n",
       "    </tr>\n",
       "    <tr>\n",
       "      <th>150</th>\n",
       "      <td>150</td>\n",
       "      <td>262.7</td>\n",
       "    </tr>\n",
       "  </tbody>\n",
       "</table>\n",
       "</div>"
      ],
      "text/plain": [
       "     time  BJsales\n",
       "141   141    257.3\n",
       "142   142    257.5\n",
       "143   143    259.6\n",
       "144   144    261.1\n",
       "145   145    262.9\n",
       "146   146    263.3\n",
       "147   147    262.8\n",
       "148   148    261.8\n",
       "149   149    262.2\n",
       "150   150    262.7"
      ]
     },
     "execution_count": 12,
     "metadata": {},
     "output_type": "execute_result"
    }
   ],
   "source": [
    "BJsales.tail(10)"
   ]
  },
  {
   "cell_type": "code",
   "execution_count": 13,
   "id": "e78047ea-c09b-411f-9d6e-b248e726beeb",
   "metadata": {},
   "outputs": [
    {
     "data": {
      "text/plain": [
       "time       150.0\n",
       "BJsales    263.3\n",
       "dtype: float64"
      ]
     },
     "execution_count": 13,
     "metadata": {},
     "output_type": "execute_result"
    }
   ],
   "source": [
    "BJsales.max()"
   ]
  },
  {
   "cell_type": "code",
   "execution_count": 14,
   "id": "6e6407b5-cc11-4c9f-b51d-42c25e4b5b1f",
   "metadata": {},
   "outputs": [
    {
     "data": {
      "text/plain": [
       "time         1.0\n",
       "BJsales    198.6\n",
       "dtype: float64"
      ]
     },
     "execution_count": 14,
     "metadata": {},
     "output_type": "execute_result"
    }
   ],
   "source": [
    "BJsales.min()"
   ]
  },
  {
   "cell_type": "code",
   "execution_count": 15,
   "id": "730d6ede-a547-4d79-9b85-f81063163ba0",
   "metadata": {},
   "outputs": [
    {
     "data": {
      "text/html": [
       "<div>\n",
       "<style scoped>\n",
       "    .dataframe tbody tr th:only-of-type {\n",
       "        vertical-align: middle;\n",
       "    }\n",
       "\n",
       "    .dataframe tbody tr th {\n",
       "        vertical-align: top;\n",
       "    }\n",
       "\n",
       "    .dataframe thead th {\n",
       "        text-align: right;\n",
       "    }\n",
       "</style>\n",
       "<table border=\"1\" class=\"dataframe\">\n",
       "  <thead>\n",
       "    <tr style=\"text-align: right;\">\n",
       "      <th></th>\n",
       "      <th>time</th>\n",
       "      <th>BJsales</th>\n",
       "    </tr>\n",
       "  </thead>\n",
       "  <tbody>\n",
       "    <tr>\n",
       "      <th>6</th>\n",
       "      <td>6</td>\n",
       "      <td>200.2</td>\n",
       "    </tr>\n",
       "    <tr>\n",
       "      <th>7</th>\n",
       "      <td>7</td>\n",
       "      <td>198.6</td>\n",
       "    </tr>\n",
       "    <tr>\n",
       "      <th>8</th>\n",
       "      <td>8</td>\n",
       "      <td>200.0</td>\n",
       "    </tr>\n",
       "    <tr>\n",
       "      <th>9</th>\n",
       "      <td>9</td>\n",
       "      <td>200.3</td>\n",
       "    </tr>\n",
       "    <tr>\n",
       "      <th>10</th>\n",
       "      <td>10</td>\n",
       "      <td>201.2</td>\n",
       "    </tr>\n",
       "  </tbody>\n",
       "</table>\n",
       "</div>"
      ],
      "text/plain": [
       "    time  BJsales\n",
       "6      6    200.2\n",
       "7      7    198.6\n",
       "8      8    200.0\n",
       "9      9    200.3\n",
       "10    10    201.2"
      ]
     },
     "execution_count": 15,
     "metadata": {},
     "output_type": "execute_result"
    }
   ],
   "source": [
    "BJsales.iloc[5:10]"
   ]
  },
  {
   "cell_type": "code",
   "execution_count": 18,
   "id": "d4265d05-0218-4d75-9b06-3f65e1d8a0d3",
   "metadata": {},
   "outputs": [
    {
     "data": {
      "text/html": [
       "<div>\n",
       "<style scoped>\n",
       "    .dataframe tbody tr th:only-of-type {\n",
       "        vertical-align: middle;\n",
       "    }\n",
       "\n",
       "    .dataframe tbody tr th {\n",
       "        vertical-align: top;\n",
       "    }\n",
       "\n",
       "    .dataframe thead th {\n",
       "        text-align: right;\n",
       "    }\n",
       "</style>\n",
       "<table border=\"1\" class=\"dataframe\">\n",
       "  <thead>\n",
       "    <tr style=\"text-align: right;\">\n",
       "      <th></th>\n",
       "      <th>time</th>\n",
       "      <th>BJsales</th>\n",
       "    </tr>\n",
       "  </thead>\n",
       "  <tbody>\n",
       "    <tr>\n",
       "      <th>1</th>\n",
       "      <td>1</td>\n",
       "      <td>200.1</td>\n",
       "    </tr>\n",
       "    <tr>\n",
       "      <th>2</th>\n",
       "      <td>2</td>\n",
       "      <td>199.5</td>\n",
       "    </tr>\n",
       "    <tr>\n",
       "      <th>3</th>\n",
       "      <td>3</td>\n",
       "      <td>199.4</td>\n",
       "    </tr>\n",
       "    <tr>\n",
       "      <th>4</th>\n",
       "      <td>4</td>\n",
       "      <td>198.9</td>\n",
       "    </tr>\n",
       "    <tr>\n",
       "      <th>5</th>\n",
       "      <td>5</td>\n",
       "      <td>199.0</td>\n",
       "    </tr>\n",
       "  </tbody>\n",
       "</table>\n",
       "</div>"
      ],
      "text/plain": [
       "   time  BJsales\n",
       "1     1    200.1\n",
       "2     2    199.5\n",
       "3     3    199.4\n",
       "4     4    198.9\n",
       "5     5    199.0"
      ]
     },
     "execution_count": 18,
     "metadata": {},
     "output_type": "execute_result"
    }
   ],
   "source": [
    "BJsales.iloc[0:5]"
   ]
  },
  {
   "cell_type": "code",
   "execution_count": 19,
   "id": "b5455b76-5e87-40e0-9864-f202ee0d2dda",
   "metadata": {},
   "outputs": [
    {
     "data": {
      "text/html": [
       "<div>\n",
       "<style scoped>\n",
       "    .dataframe tbody tr th:only-of-type {\n",
       "        vertical-align: middle;\n",
       "    }\n",
       "\n",
       "    .dataframe tbody tr th {\n",
       "        vertical-align: top;\n",
       "    }\n",
       "\n",
       "    .dataframe thead th {\n",
       "        text-align: right;\n",
       "    }\n",
       "</style>\n",
       "<table border=\"1\" class=\"dataframe\">\n",
       "  <thead>\n",
       "    <tr style=\"text-align: right;\">\n",
       "      <th></th>\n",
       "      <th>time</th>\n",
       "      <th>BJsales</th>\n",
       "    </tr>\n",
       "  </thead>\n",
       "  <tbody>\n",
       "    <tr>\n",
       "      <th>1</th>\n",
       "      <td>False</td>\n",
       "      <td>False</td>\n",
       "    </tr>\n",
       "    <tr>\n",
       "      <th>2</th>\n",
       "      <td>False</td>\n",
       "      <td>False</td>\n",
       "    </tr>\n",
       "    <tr>\n",
       "      <th>3</th>\n",
       "      <td>False</td>\n",
       "      <td>False</td>\n",
       "    </tr>\n",
       "    <tr>\n",
       "      <th>4</th>\n",
       "      <td>False</td>\n",
       "      <td>False</td>\n",
       "    </tr>\n",
       "    <tr>\n",
       "      <th>5</th>\n",
       "      <td>False</td>\n",
       "      <td>False</td>\n",
       "    </tr>\n",
       "    <tr>\n",
       "      <th>6</th>\n",
       "      <td>False</td>\n",
       "      <td>False</td>\n",
       "    </tr>\n",
       "    <tr>\n",
       "      <th>7</th>\n",
       "      <td>False</td>\n",
       "      <td>False</td>\n",
       "    </tr>\n",
       "    <tr>\n",
       "      <th>8</th>\n",
       "      <td>False</td>\n",
       "      <td>False</td>\n",
       "    </tr>\n",
       "    <tr>\n",
       "      <th>9</th>\n",
       "      <td>False</td>\n",
       "      <td>False</td>\n",
       "    </tr>\n",
       "    <tr>\n",
       "      <th>10</th>\n",
       "      <td>False</td>\n",
       "      <td>False</td>\n",
       "    </tr>\n",
       "  </tbody>\n",
       "</table>\n",
       "</div>"
      ],
      "text/plain": [
       "     time  BJsales\n",
       "1   False    False\n",
       "2   False    False\n",
       "3   False    False\n",
       "4   False    False\n",
       "5   False    False\n",
       "6   False    False\n",
       "7   False    False\n",
       "8   False    False\n",
       "9   False    False\n",
       "10  False    False"
      ]
     },
     "execution_count": 19,
     "metadata": {},
     "output_type": "execute_result"
    }
   ],
   "source": [
    "BJsales.isnull().head(10)"
   ]
  },
  {
   "cell_type": "code",
   "execution_count": 21,
   "id": "9d357cc1-111c-4f6f-ac9f-ff5903919507",
   "metadata": {},
   "outputs": [
    {
     "data": {
      "text/plain": [
       "time       0\n",
       "BJsales    0\n",
       "dtype: int64"
      ]
     },
     "execution_count": 21,
     "metadata": {},
     "output_type": "execute_result"
    }
   ],
   "source": [
    "BJsales.isnull().sum()"
   ]
  },
  {
   "cell_type": "code",
   "execution_count": 22,
   "id": "68f34c1e-104e-4cd2-a1c6-133be470689c",
   "metadata": {},
   "outputs": [
    {
     "data": {
      "text/plain": [
       "np.int64(0)"
      ]
     },
     "execution_count": 22,
     "metadata": {},
     "output_type": "execute_result"
    }
   ],
   "source": [
    "BJsales.isnull().sum().sum()"
   ]
  },
  {
   "cell_type": "code",
   "execution_count": 23,
   "id": "08195c59-ad69-460e-b277-7f308d73633c",
   "metadata": {},
   "outputs": [
    {
     "data": {
      "text/html": [
       "<div>\n",
       "<style scoped>\n",
       "    .dataframe tbody tr th:only-of-type {\n",
       "        vertical-align: middle;\n",
       "    }\n",
       "\n",
       "    .dataframe tbody tr th {\n",
       "        vertical-align: top;\n",
       "    }\n",
       "\n",
       "    .dataframe thead th {\n",
       "        text-align: right;\n",
       "    }\n",
       "</style>\n",
       "<table border=\"1\" class=\"dataframe\">\n",
       "  <thead>\n",
       "    <tr style=\"text-align: right;\">\n",
       "      <th></th>\n",
       "      <th>time</th>\n",
       "      <th>BJsales</th>\n",
       "    </tr>\n",
       "  </thead>\n",
       "  <tbody>\n",
       "    <tr>\n",
       "      <th>1</th>\n",
       "      <td>True</td>\n",
       "      <td>True</td>\n",
       "    </tr>\n",
       "    <tr>\n",
       "      <th>2</th>\n",
       "      <td>True</td>\n",
       "      <td>True</td>\n",
       "    </tr>\n",
       "    <tr>\n",
       "      <th>3</th>\n",
       "      <td>True</td>\n",
       "      <td>True</td>\n",
       "    </tr>\n",
       "    <tr>\n",
       "      <th>4</th>\n",
       "      <td>True</td>\n",
       "      <td>True</td>\n",
       "    </tr>\n",
       "    <tr>\n",
       "      <th>5</th>\n",
       "      <td>True</td>\n",
       "      <td>True</td>\n",
       "    </tr>\n",
       "    <tr>\n",
       "      <th>6</th>\n",
       "      <td>True</td>\n",
       "      <td>True</td>\n",
       "    </tr>\n",
       "    <tr>\n",
       "      <th>7</th>\n",
       "      <td>True</td>\n",
       "      <td>True</td>\n",
       "    </tr>\n",
       "    <tr>\n",
       "      <th>8</th>\n",
       "      <td>True</td>\n",
       "      <td>True</td>\n",
       "    </tr>\n",
       "    <tr>\n",
       "      <th>9</th>\n",
       "      <td>True</td>\n",
       "      <td>True</td>\n",
       "    </tr>\n",
       "    <tr>\n",
       "      <th>10</th>\n",
       "      <td>True</td>\n",
       "      <td>True</td>\n",
       "    </tr>\n",
       "  </tbody>\n",
       "</table>\n",
       "</div>"
      ],
      "text/plain": [
       "    time  BJsales\n",
       "1   True     True\n",
       "2   True     True\n",
       "3   True     True\n",
       "4   True     True\n",
       "5   True     True\n",
       "6   True     True\n",
       "7   True     True\n",
       "8   True     True\n",
       "9   True     True\n",
       "10  True     True"
      ]
     },
     "execution_count": 23,
     "metadata": {},
     "output_type": "execute_result"
    }
   ],
   "source": [
    "BJsales.notnull().head(10)"
   ]
  },
  {
   "cell_type": "code",
   "execution_count": 24,
   "id": "d9b7a736-d8fc-4bf5-94fc-713b65cbe4c3",
   "metadata": {},
   "outputs": [
    {
     "data": {
      "text/plain": [
       "time       150\n",
       "BJsales    150\n",
       "dtype: int64"
      ]
     },
     "execution_count": 24,
     "metadata": {},
     "output_type": "execute_result"
    }
   ],
   "source": [
    "BJsales.notnull().sum()"
   ]
  },
  {
   "cell_type": "code",
   "execution_count": 26,
   "id": "1c997b92-aca7-4acc-ae12-02abec2314bb",
   "metadata": {},
   "outputs": [
    {
     "data": {
      "text/plain": [
       "1     False\n",
       "2     False\n",
       "3     False\n",
       "4     False\n",
       "5     False\n",
       "6     False\n",
       "7     False\n",
       "8     False\n",
       "9     False\n",
       "10    False\n",
       "dtype: bool"
      ]
     },
     "execution_count": 26,
     "metadata": {},
     "output_type": "execute_result"
    }
   ],
   "source": [
    "BJsales.duplicated().head(10)"
   ]
  },
  {
   "cell_type": "code",
   "execution_count": 28,
   "id": "10fd7e1d-e038-4a1c-9bfa-167143c79d87",
   "metadata": {},
   "outputs": [
    {
     "data": {
      "text/plain": [
       "np.int64(0)"
      ]
     },
     "execution_count": 28,
     "metadata": {},
     "output_type": "execute_result"
    }
   ],
   "source": [
    "BJsales.duplicated().sum()"
   ]
  },
  {
   "cell_type": "code",
   "execution_count": 29,
   "id": "4e0597c0-60df-42cf-816c-c8870550dc09",
   "metadata": {},
   "outputs": [
    {
     "data": {
      "text/plain": [
       "Index(['time', 'BJsales'], dtype='object')"
      ]
     },
     "execution_count": 29,
     "metadata": {},
     "output_type": "execute_result"
    }
   ],
   "source": [
    "BJsales.columns"
   ]
  },
  {
   "cell_type": "code",
   "execution_count": 30,
   "id": "82da44ad-04b0-4b32-95e9-4c17b3a6d94a",
   "metadata": {},
   "outputs": [
    {
     "data": {
      "text/plain": [
       "time       150\n",
       "BJsales    123\n",
       "dtype: int64"
      ]
     },
     "execution_count": 30,
     "metadata": {},
     "output_type": "execute_result"
    }
   ],
   "source": [
    "BJsales.nunique()"
   ]
  },
  {
   "cell_type": "code",
   "execution_count": 31,
   "id": "f559f409-ae03-4eba-8ea8-1aa5788ab157",
   "metadata": {},
   "outputs": [
    {
     "data": {
      "text/plain": [
       "<bound method DataFrame.nunique of      time  BJsales\n",
       "1       1    200.1\n",
       "2       2    199.5\n",
       "3       3    199.4\n",
       "4       4    198.9\n",
       "5       5    199.0\n",
       "6       6    200.2\n",
       "7       7    198.6\n",
       "8       8    200.0\n",
       "9       9    200.3\n",
       "10     10    201.2\n",
       "11     11    201.6\n",
       "12     12    201.5\n",
       "13     13    201.5\n",
       "14     14    203.5\n",
       "15     15    204.9\n",
       "16     16    207.1\n",
       "17     17    210.5\n",
       "18     18    210.5\n",
       "19     19    209.8\n",
       "20     20    208.8\n",
       "21     21    209.5\n",
       "22     22    213.2\n",
       "23     23    213.7\n",
       "24     24    215.1\n",
       "25     25    218.7\n",
       "26     26    219.8\n",
       "27     27    220.5\n",
       "28     28    223.8\n",
       "29     29    222.8\n",
       "30     30    223.8\n",
       "31     31    221.7\n",
       "32     32    222.3\n",
       "33     33    220.8\n",
       "34     34    219.4\n",
       "35     35    220.1\n",
       "36     36    220.6\n",
       "37     37    218.9\n",
       "38     38    217.8\n",
       "39     39    217.7\n",
       "40     40    215.0\n",
       "41     41    215.3\n",
       "42     42    215.9\n",
       "43     43    216.7\n",
       "44     44    216.7\n",
       "45     45    217.7\n",
       "46     46    218.7\n",
       "47     47    222.9\n",
       "48     48    224.9\n",
       "49     49    222.2\n",
       "50     50    220.7\n",
       "51     51    220.0\n",
       "52     52    218.7\n",
       "53     53    217.0\n",
       "54     54    215.9\n",
       "55     55    215.8\n",
       "56     56    214.1\n",
       "57     57    212.3\n",
       "58     58    213.9\n",
       "59     59    214.6\n",
       "60     60    213.6\n",
       "61     61    212.1\n",
       "62     62    211.4\n",
       "63     63    213.1\n",
       "64     64    212.9\n",
       "65     65    213.3\n",
       "66     66    211.5\n",
       "67     67    212.3\n",
       "68     68    213.0\n",
       "69     69    211.0\n",
       "70     70    210.7\n",
       "71     71    210.1\n",
       "72     72    211.4\n",
       "73     73    210.0\n",
       "74     74    209.7\n",
       "75     75    208.8\n",
       "76     76    208.8\n",
       "77     77    208.8\n",
       "78     78    210.6\n",
       "79     79    211.9\n",
       "80     80    212.8\n",
       "81     81    212.5\n",
       "82     82    214.8\n",
       "83     83    215.3\n",
       "84     84    217.5\n",
       "85     85    218.8\n",
       "86     86    220.7\n",
       "87     87    222.2\n",
       "88     88    226.7\n",
       "89     89    228.4\n",
       "90     90    233.2\n",
       "91     91    235.7\n",
       "92     92    237.1\n",
       "93     93    240.6\n",
       "94     94    243.8\n",
       "95     95    245.3\n",
       "96     96    246.0\n",
       "97     97    246.3\n",
       "98     98    247.7\n",
       "99     99    247.6\n",
       "100   100    247.8\n",
       "101   101    249.4\n",
       "102   102    249.0\n",
       "103   103    249.9\n",
       "104   104    250.5\n",
       "105   105    251.5\n",
       "106   106    249.0\n",
       "107   107    247.6\n",
       "108   108    248.8\n",
       "109   109    250.4\n",
       "110   110    250.7\n",
       "111   111    253.0\n",
       "112   112    253.7\n",
       "113   113    255.0\n",
       "114   114    256.2\n",
       "115   115    256.0\n",
       "116   116    257.4\n",
       "117   117    260.4\n",
       "118   118    260.0\n",
       "119   119    261.3\n",
       "120   120    260.4\n",
       "121   121    261.6\n",
       "122   122    260.8\n",
       "123   123    259.8\n",
       "124   124    259.0\n",
       "125   125    258.9\n",
       "126   126    257.4\n",
       "127   127    257.7\n",
       "128   128    257.9\n",
       "129   129    257.4\n",
       "130   130    257.3\n",
       "131   131    257.6\n",
       "132   132    258.9\n",
       "133   133    257.8\n",
       "134   134    257.7\n",
       "135   135    257.2\n",
       "136   136    257.5\n",
       "137   137    256.8\n",
       "138   138    257.5\n",
       "139   139    257.0\n",
       "140   140    257.6\n",
       "141   141    257.3\n",
       "142   142    257.5\n",
       "143   143    259.6\n",
       "144   144    261.1\n",
       "145   145    262.9\n",
       "146   146    263.3\n",
       "147   147    262.8\n",
       "148   148    261.8\n",
       "149   149    262.2\n",
       "150   150    262.7>"
      ]
     },
     "execution_count": 31,
     "metadata": {},
     "output_type": "execute_result"
    }
   ],
   "source": [
    "BJsales.nunique"
   ]
  },
  {
   "cell_type": "code",
   "execution_count": null,
   "id": "9eb87424-639b-434c-a420-89a68d0ab60a",
   "metadata": {},
   "outputs": [],
   "source": []
  }
 ],
 "metadata": {
  "kernelspec": {
   "display_name": "Python [conda env:base] *",
   "language": "python",
   "name": "conda-base-py"
  },
  "language_info": {
   "codemirror_mode": {
    "name": "ipython",
    "version": 3
   },
   "file_extension": ".py",
   "mimetype": "text/x-python",
   "name": "python",
   "nbconvert_exporter": "python",
   "pygments_lexer": "ipython3",
   "version": "3.13.5"
  }
 },
 "nbformat": 4,
 "nbformat_minor": 5
}
