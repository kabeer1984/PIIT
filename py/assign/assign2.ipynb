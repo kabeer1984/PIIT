{
 "cells": [
  {
   "cell_type": "markdown",
   "id": "9aab8d05-8f69-4913-abf3-c12d9bc69fa8",
   "metadata": {},
   "source": [
    "##VLOOKUP, IFERROR\n",
    "Task :Use VLOOKUP to fetch a student's full name and class when given a StudentID (from Scores sheet). Wrap with IFERROR to show 'Not found' if the ID is invalid."
   ]
  },
  {
   "cell_type": "markdown",
   "id": "ab6c0835-3fd2-45ea-82f4-3567a5a7b217",
   "metadata": {},
   "source": [
    "##https://docs.google.com/spreadsheets/d/12biNm9nmI1rBYXM59dtpxh-pwFNJFCiWVus9cdQqN4Y/edit?gid=0#gid=0"
   ]
  },
  {
   "cell_type": "markdown",
   "id": "4f201c34-a514-4c5e-9e74-3279e3b64018",
   "metadata": {},
   "source": [
    "Create a Pass/Fail column for each score: Pass if Score >= 40, else Fail.\tIF ASSIGN 2"
   ]
  },
  {
   "cell_type": "markdown",
   "id": "74e2a60c-0fe4-4535-a19f-b7b04847379f",
   "metadata": {},
   "source": [
    "##https://docs.google.com/spreadsheets/d/12biNm9nmI1rBYXM59dtpxh-pwFNJFCiWVus9cdQqN4Y/edit?gid=1545390920#gid=1545390920"
   ]
  },
  {
   "cell_type": "markdown",
   "id": "e99eef48-9093-42b6-9f84-0c5e21993305",
   "metadata": {},
   "source": [
    "##Calculate the average Final score in Physics for Class 12A only.\n",
    "List the unique subjects that appear in the Scores sheet.\n",
    "Find each student's best subject in the Final (highest Score).\n",
    "Compute each student's overall average across all subjects in the Final."
   ]
  },
  {
   "cell_type": "markdown",
   "id": "362bd18e-7347-4d9b-a7cf-677adaff6082",
   "metadata": {},
   "source": [
    "Count how many scores are recorded for Maths in the Midterm.\tCOUNTIFS ASSIGN 3,4,5,6,7,8 & 12"
   ]
  },
  {
   "cell_type": "markdown",
   "id": "66c37819-87a4-4d75-afb3-d7f2ff14f228",
   "metadata": {},
   "source": [
    "##https://docs.google.com/spreadsheets/d/12biNm9nmI1rBYXM59dtpxh-pwFNJFCiWVus9cdQqN4Y/edit?gid=1545390920#gid=1545390920"
   ]
  },
  {
   "cell_type": "markdown",
   "id": "1f19b4d8-e426-4c25-8544-caac3cb9c7b8",
   "metadata": {},
   "source": [
    "###Compare each student's Final English score with the class target from the Targets sheet and label 'Met Target' or 'Below Target'.\tCompare each student's Final English score with the class target from the Targets sheet and label 'Met Target' or 'Below Target'.\n",
    "How many students have attendance below 75%?\tHow many students have attendance below 75%?\n",
    "Create a list showing only students with attendance below 75%, with their Final average, sorted by lowest average first.\tCreate a list showing only students with attendance below 75%, with their Final average, sorted by lowest average first.\n",
    "Build a subject-wise summary: total, average, min, and max Score for Midterm and Final.\tBuild a subject-wise summary: total, average, min, and max Score for Midterm and Final.###"
   ]
  },
  {
   "cell_type": "markdown",
   "id": "91296f37-0f28-4470-b3e3-957ebe9977b6",
   "metadata": {},
   "source": [
    "##Build a subject-wise summary: total, average, min, and max Score for Midterm and Final.\tBuild a subject-wise summary: total, average, min, and max Score for Midterm and Final. Pivot table"
   ]
  },
  {
   "cell_type": "markdown",
   "id": "2b680e93-bd58-4e7b-8502-b5cb7cfd81da",
   "metadata": {},
   "source": [
    "##https://docs.google.com/spreadsheets/d/12biNm9nmI1rBYXM59dtpxh-pwFNJFCiWVus9cdQqN4Y/edit?gid=1346953508#gid=1346953508"
   ]
  },
  {
   "cell_type": "markdown",
   "id": "43de1bca-885a-4f97-8efb-e9b618945e1c",
   "metadata": {},
   "source": [
    "##https://docs.google.com/spreadsheets/d/12biNm9nmI1rBYXM59dtpxh-pwFNJFCiWVus9cdQqN4Y/edit?gid=2028874120#gid=2028874120"
   ]
  },
  {
   "cell_type": "markdown",
   "id": "30b6f918-45de-4a6b-88d8-55d3016c6f7d",
   "metadata": {},
   "source": [
    "assign 9,10,11 and more practice"
   ]
  },
  {
   "cell_type": "markdown",
   "id": "23232d0f-9c11-4cea-8d2c-316f7245978a",
   "metadata": {},
   "source": [
    "##https://docs.google.com/spreadsheets/d/12biNm9nmI1rBYXM59dtpxh-pwFNJFCiWVus9cdQqN4Y/edit?gid=1999081631#gid=1999081631"
   ]
  },
  {
   "cell_type": "code",
   "execution_count": null,
   "id": "35b1f06c-13fa-494e-9574-f1e17b23fce8",
   "metadata": {},
   "outputs": [],
   "source": []
  }
 ],
 "metadata": {
  "kernelspec": {
   "display_name": "Python [conda env:base] *",
   "language": "python",
   "name": "conda-base-py"
  },
  "language_info": {
   "codemirror_mode": {
    "name": "ipython",
    "version": 3
   },
   "file_extension": ".py",
   "mimetype": "text/x-python",
   "name": "python",
   "nbconvert_exporter": "python",
   "pygments_lexer": "ipython3",
   "version": "3.13.5"
  }
 },
 "nbformat": 4,
 "nbformat_minor": 5
}
