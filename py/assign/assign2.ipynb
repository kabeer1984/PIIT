{
 "cells": [
  {
   "cell_type": "markdown",
   "id": "9aab8d05-8f69-4913-abf3-c12d9bc69fa8",
   "metadata": {},
   "source": [
    "##VLOOKUP, IFERROR\n",
    "Task :Use VLOOKUP to fetch a student's full name and class when given a StudentID (from Scores sheet). Wrap with IFERROR to show 'Not found' if the ID is invalid."
   ]
  },
  {
   "cell_type": "raw",
   "id": "b6e7f90f-1dcf-45b4-9e46-885da8e5dcd6",
   "metadata": {},
   "source": [
    "### https://docs.google.com/spreadsheets/d/12biNm9nmI1rBYXM59dtpxh-pwFNJFCiWVus9cdQqN4Y/edit?gid=0#gid=0"
   ]
  },
  {
   "cell_type": "code",
   "execution_count": null,
   "id": "6380674a-956e-4718-a5c2-65eead8a9f68",
   "metadata": {},
   "outputs": [],
   "source": [
    "##Function IF\n",
    "Task :Create a Pass/Fail column for each score: Pass if Score >= 40, else Fail."
   ]
  },
  {
   "cell_type": "raw",
   "id": "c5b8aba9-06a0-4caa-910e-46b275d06c64",
   "metadata": {},
   "source": [
    "##https://docs.google.com/spreadsheets/d/12biNm9nmI1rBYXM59dtpxh-pwFNJFCiWVus9cdQqN4Y/edit?gid=1545390920#gid=1545390920"
   ]
  },
  {
   "cell_type": "code",
   "execution_count": null,
   "id": "87e3b99b-5718-4962-afd9-2e25708140d4",
   "metadata": {},
   "outputs": [],
   "source": []
  }
 ],
 "metadata": {
  "kernelspec": {
   "display_name": "Python [conda env:base] *",
   "language": "python",
   "name": "conda-base-py"
  },
  "language_info": {
   "codemirror_mode": {
    "name": "ipython",
    "version": 3
   },
   "file_extension": ".py",
   "mimetype": "text/x-python",
   "name": "python",
   "nbconvert_exporter": "python",
   "pygments_lexer": "ipython3",
   "version": "3.13.5"
  }
 },
 "nbformat": 4,
 "nbformat_minor": 5
}
