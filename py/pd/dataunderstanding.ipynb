{
 "cells": [
  {
   "cell_type": "markdown",
   "id": "b40e3e7c-5ff8-4e64-b5d7-bc8036d7dc08",
   "metadata": {},
   "source": [
    "# Jupyter Notebook/Python\n",
    " -  The Jupyter Notebook is an open-source web application that allows you to create and share documents that contain live code, equations, visualizations, and narrative text. \n",
    " -  Jupyter has support for over 40 different programming languages, and Python is one of them. \n",
    " -  Python is a requirement (Python 3.3 or greater, or Python 2.7) for installing the Jupyter Notebook itself.\n",
    "\n",
    "Data Analysis\n",
    "     Load data from different sources\n",
    "     Save data into different formats\n",
    "\n",
    "  - Understand the data structures:\n",
    "    > Lists:\n",
    "      - Ordered, mutable collections of items.\n",
    "      - Can store heterogeneous data types.\n",
    "      - Created using square brackets [].\n",
    "          Example: my_list = [1, \"hello\", 3.14]\n",
    "\n",
    "   > Tuples:\n",
    "      - Ordered, immutable collections of items.\n",
    "      - Can store heterogeneous data types.\n",
    "      - Created using parentheses ().\n",
    "           Example: my_tuple = (1, \"world\", 2.71)\n",
    "\n",
    "   > Sets:\n",
    "     - Unordered, mutable collections of unique items.\n",
    "     - Used for membership testing and eliminating duplicate entries.\n",
    "     - Created using curly braces {} or the set() constructor.\n",
    "           Example: my_set = {1, 2, 3, 2} (will result in {1, 2, 3})\n",
    "\n",
    "    > Dictionaries:\n",
    "      - Unordered, mutable collections of key-value pairs.\n",
    "      - Keys must be unique and immutable; values can be of any type.\n",
    "      - Created using curly braces {} with key-value pairs separated by colons.\n",
    "             Example: my_dict = {\"name\": \"Alice\", \"age\": 30}\n",
    "Data Cleaning in Python:\n",
    "       > Remove Unwanted Observations: Eliminate duplicates, irrelevant entries or redundant data that add noise.\n",
    "       > Fix Structural Errors: Standardize data formats and variable types for consistency.\n",
    "       > Manage Outliers: Detect and handle extreme values that can skew results, either by removal or transformation.\n",
    "       > Handle Missing Data: Address gaps using imputation, deletion or advanced techniques to maintain accuracy and integrity.\n",
    "\n",
    "- sort\n",
    "- filter - conditions; search for string\n",
    "- slicing - select rows, cols on conditions\n",
    "- merge data - row, col\n",
    "- join \n",
    "- visualise- bar, pie, presentation, storytelling\n",
    "- outliers \n",
    "- groupby summaries, pivot\n",
    "- rotate data - long, wide\n",
    "- statistics - mean, median, mode, std, skewness, kurtosis, correlation, covariance\n",
    "- data distribution - normal,\n",
    "- sampling"
   ]
  },
  {
   "cell_type": "code",
   "execution_count": null,
   "id": "8f60e729-990a-47d4-b2b4-894c13369d15",
   "metadata": {},
   "outputs": [],
   "source": []
  }
 ],
 "metadata": {
  "kernelspec": {
   "display_name": "Python [conda env:base] *",
   "language": "python",
   "name": "conda-base-py"
  },
  "language_info": {
   "codemirror_mode": {
    "name": "ipython",
    "version": 3
   },
   "file_extension": ".py",
   "mimetype": "text/x-python",
   "name": "python",
   "nbconvert_exporter": "python",
   "pygments_lexer": "ipython3",
   "version": "3.13.5"
  }
 },
 "nbformat": 4,
 "nbformat_minor": 5
}
