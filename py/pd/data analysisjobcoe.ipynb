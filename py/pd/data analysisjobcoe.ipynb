{
 "cells": [
  {
   "cell_type": "code",
   "execution_count": 1,
   "id": "397cb4f9-3af6-470f-a0c8-b53b6b6973e0",
   "metadata": {},
   "outputs": [],
   "source": [
    "### DATA ANALYSIS\n"
   ]
  },
  {
   "cell_type": "markdown",
   "id": "66e9b533-a819-4225-8517-2a59b5c603e0",
   "metadata": {},
   "source": [
    "###\n",
    "load data from different sources\n",
    "save data into different formats\n",
    "understand the data structures, how large, names of col,\n",
    "missing values, inconsistencies, cleaning, transformation\n",
    "sort\n",
    "filter - conditions; search for string\n",
    "slicing - select rows, cols on conditions\n",
    "merge data - row, col\n",
    "join\n",
    "visualise- bar, pie, presentation, storytelling\n",
    "outliers\n",
    "groupby summaries, pivot\n",
    "rotate data - long, wide\n",
    "statistics - mean, median, mode, std, skewness, kurtosis, correlation, covariance\n",
    "data distribution - normal,\n",
    "sampling"
   ]
  },
  {
   "cell_type": "code",
   "execution_count": null,
   "id": "9b5a7cd4-0b58-4109-9352-24d15cbf1f42",
   "metadata": {},
   "outputs": [],
   "source": []
  }
 ],
 "metadata": {
  "kernelspec": {
   "display_name": "Python [conda env:base] *",
   "language": "python",
   "name": "conda-base-py"
  },
  "language_info": {
   "codemirror_mode": {
    "name": "ipython",
    "version": 3
   },
   "file_extension": ".py",
   "mimetype": "text/x-python",
   "name": "python",
   "nbconvert_exporter": "python",
   "pygments_lexer": "ipython3",
   "version": "3.13.5"
  }
 },
 "nbformat": 4,
 "nbformat_minor": 5
}
