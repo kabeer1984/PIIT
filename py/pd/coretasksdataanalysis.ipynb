{
 "cells": [
  {
   "cell_type": "markdown",
   "id": "7f18ee2d-efa2-4030-a498-ad3f053103f9",
   "metadata": {},
   "source": [
    "### DATA ANALYSIS"
   ]
  },
  {
   "cell_type": "markdown",
   "id": "ef380b05-bb87-413d-ad5c-825aa2457c65",
   "metadata": {},
   "source": [
    "###\n",
    "load data from different sources\n",
    "\n",
    "save data into different formats\n",
    "\n",
    "understand the data structures, how large, names of col,\n",
    "\n",
    "missing values, inconsistencies, cleaning, transformation\n",
    "sort\n",
    "filter - conditions; search for string\n",
    "\n",
    "slicing - select rows, cols on conditions\n",
    "merge data - row, col\n",
    "\n",
    "join\n",
    "visualise- bar, pie, presentation, storytelling\n",
    "\n",
    "outliers\n",
    "groupby summaries, pivot\n",
    "\n",
    "rotate data - long, wide\n",
    "\n",
    "statistics - mean, median, mode, std, skewness, kurtosis, correlation, covariance\n",
    "data distribution - normal,\n",
    "sampling"
   ]
  },
  {
   "cell_type": "markdown",
   "id": "28c0467c-223e-495f-9ea9-e7a5c2aece34",
   "metadata": {},
   "source": [
    "Data Analysis need sufficient knowledge of DATA types & DATA structures."
   ]
  },
  {
   "cell_type": "code",
   "execution_count": null,
   "id": "33e3ff96-baf6-446c-a1ad-8779626fd8bd",
   "metadata": {},
   "outputs": [],
   "source": []
  }
 ],
 "metadata": {
  "kernelspec": {
   "display_name": "Python [conda env:base] *",
   "language": "python",
   "name": "conda-base-py"
  },
  "language_info": {
   "codemirror_mode": {
    "name": "ipython",
    "version": 3
   },
   "file_extension": ".py",
   "mimetype": "text/x-python",
   "name": "python",
   "nbconvert_exporter": "python",
   "pygments_lexer": "ipython3",
   "version": "3.13.5"
  }
 },
 "nbformat": 4,
 "nbformat_minor": 5
}
