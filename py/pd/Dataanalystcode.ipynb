{
 "cells": [
  {
   "cell_type": "markdown",
   "id": "7844ff94-480a-49f9-957b-340b8b7676ea",
   "metadata": {},
   "source": [
    "###Data Analysis core day to day job code"
   ]
  },
  {
   "cell_type": "markdown",
   "id": "afdb8dda-a7eb-418d-9b13-fe2c0077e4dc",
   "metadata": {},
   "source": [
    "Loading data from difference sources."
   ]
  }
 ],
 "metadata": {
  "kernelspec": {
   "display_name": "Python [conda env:base] *",
   "language": "python",
   "name": "conda-base-py"
  },
  "language_info": {
   "codemirror_mode": {
    "name": "ipython",
    "version": 3
   },
   "file_extension": ".py",
   "mimetype": "text/x-python",
   "name": "python",
   "nbconvert_exporter": "python",
   "pygments_lexer": "ipython3",
   "version": "3.13.5"
  }
 },
 "nbformat": 4,
 "nbformat_minor": 5
}
